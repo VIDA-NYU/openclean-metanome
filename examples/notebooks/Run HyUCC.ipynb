{
 "cells": [
  {
   "cell_type": "markdown",
   "metadata": {},
   "source": [
    "# Run HyUCC Algorithm - Example\n",
    "\n",
    "This notebook shows an example for running the unique column combination discovery algorithm HyUCC."
   ]
  },
  {
   "cell_type": "code",
   "execution_count": 1,
   "metadata": {},
   "outputs": [],
   "source": [
    "# Use a Socrata dataset as the example input.\n",
    "\n",
    "from openclean.data.source.socrata import Socrata\n",
    "df = Socrata().dataset('bre9-aqqr').load()"
   ]
  },
  {
   "cell_type": "code",
   "execution_count": 2,
   "metadata": {},
   "outputs": [
    {
     "data": {
      "text/html": [
       "<div>\n",
       "<style scoped>\n",
       "    .dataframe tbody tr th:only-of-type {\n",
       "        vertical-align: middle;\n",
       "    }\n",
       "\n",
       "    .dataframe tbody tr th {\n",
       "        vertical-align: top;\n",
       "    }\n",
       "\n",
       "    .dataframe thead th {\n",
       "        text-align: right;\n",
       "    }\n",
       "</style>\n",
       "<table border=\"1\" class=\"dataframe\">\n",
       "  <thead>\n",
       "    <tr style=\"text-align: right;\">\n",
       "      <th></th>\n",
       "      <th>Report Date</th>\n",
       "      <th>FIPS</th>\n",
       "      <th>Locality</th>\n",
       "      <th>VDH Health District</th>\n",
       "      <th>Total Cases</th>\n",
       "      <th>Hospitalizations</th>\n",
       "      <th>Deaths</th>\n",
       "    </tr>\n",
       "  </thead>\n",
       "  <tbody>\n",
       "    <tr>\n",
       "      <th>0</th>\n",
       "      <td>11/28/2020</td>\n",
       "      <td>51001</td>\n",
       "      <td>Accomack</td>\n",
       "      <td>Eastern Shore</td>\n",
       "      <td>1340</td>\n",
       "      <td>107</td>\n",
       "      <td>21</td>\n",
       "    </tr>\n",
       "    <tr>\n",
       "      <th>1</th>\n",
       "      <td>11/28/2020</td>\n",
       "      <td>51003</td>\n",
       "      <td>Albemarle</td>\n",
       "      <td>Thomas Jefferson</td>\n",
       "      <td>1896</td>\n",
       "      <td>100</td>\n",
       "      <td>27</td>\n",
       "    </tr>\n",
       "    <tr>\n",
       "      <th>2</th>\n",
       "      <td>11/28/2020</td>\n",
       "      <td>51005</td>\n",
       "      <td>Alleghany</td>\n",
       "      <td>Alleghany</td>\n",
       "      <td>316</td>\n",
       "      <td>19</td>\n",
       "      <td>7</td>\n",
       "    </tr>\n",
       "    <tr>\n",
       "      <th>3</th>\n",
       "      <td>11/28/2020</td>\n",
       "      <td>51007</td>\n",
       "      <td>Amelia</td>\n",
       "      <td>Piedmont</td>\n",
       "      <td>210</td>\n",
       "      <td>21</td>\n",
       "      <td>6</td>\n",
       "    </tr>\n",
       "    <tr>\n",
       "      <th>4</th>\n",
       "      <td>11/28/2020</td>\n",
       "      <td>51009</td>\n",
       "      <td>Amherst</td>\n",
       "      <td>Central Virginia</td>\n",
       "      <td>810</td>\n",
       "      <td>31</td>\n",
       "      <td>6</td>\n",
       "    </tr>\n",
       "    <tr>\n",
       "      <th>...</th>\n",
       "      <td>...</td>\n",
       "      <td>...</td>\n",
       "      <td>...</td>\n",
       "      <td>...</td>\n",
       "      <td>...</td>\n",
       "      <td>...</td>\n",
       "      <td>...</td>\n",
       "    </tr>\n",
       "    <tr>\n",
       "      <th>46279</th>\n",
       "      <td>02/27/2021</td>\n",
       "      <td>51800</td>\n",
       "      <td>Suffolk</td>\n",
       "      <td>Western Tidewater</td>\n",
       "      <td>6876</td>\n",
       "      <td>387</td>\n",
       "      <td>150</td>\n",
       "    </tr>\n",
       "    <tr>\n",
       "      <th>46280</th>\n",
       "      <td>02/27/2021</td>\n",
       "      <td>51810</td>\n",
       "      <td>Virginia Beach</td>\n",
       "      <td>Virginia Beach</td>\n",
       "      <td>30491</td>\n",
       "      <td>1291</td>\n",
       "      <td>300</td>\n",
       "    </tr>\n",
       "    <tr>\n",
       "      <th>46281</th>\n",
       "      <td>02/27/2021</td>\n",
       "      <td>51820</td>\n",
       "      <td>Waynesboro</td>\n",
       "      <td>Central Shenandoah</td>\n",
       "      <td>2126</td>\n",
       "      <td>67</td>\n",
       "      <td>30</td>\n",
       "    </tr>\n",
       "    <tr>\n",
       "      <th>46282</th>\n",
       "      <td>02/27/2021</td>\n",
       "      <td>51830</td>\n",
       "      <td>Williamsburg</td>\n",
       "      <td>Peninsula</td>\n",
       "      <td>524</td>\n",
       "      <td>24</td>\n",
       "      <td>9</td>\n",
       "    </tr>\n",
       "    <tr>\n",
       "      <th>46283</th>\n",
       "      <td>02/27/2021</td>\n",
       "      <td>51840</td>\n",
       "      <td>Winchester</td>\n",
       "      <td>Lord Fairfax</td>\n",
       "      <td>2460</td>\n",
       "      <td>98</td>\n",
       "      <td>30</td>\n",
       "    </tr>\n",
       "  </tbody>\n",
       "</table>\n",
       "<p>46284 rows × 7 columns</p>\n",
       "</div>"
      ],
      "text/plain": [
       "      Report Date   FIPS        Locality VDH Health District  Total Cases  \\\n",
       "0      11/28/2020  51001        Accomack       Eastern Shore         1340   \n",
       "1      11/28/2020  51003       Albemarle    Thomas Jefferson         1896   \n",
       "2      11/28/2020  51005       Alleghany           Alleghany          316   \n",
       "3      11/28/2020  51007          Amelia            Piedmont          210   \n",
       "4      11/28/2020  51009         Amherst    Central Virginia          810   \n",
       "...           ...    ...             ...                 ...          ...   \n",
       "46279  02/27/2021  51800         Suffolk   Western Tidewater         6876   \n",
       "46280  02/27/2021  51810  Virginia Beach      Virginia Beach        30491   \n",
       "46281  02/27/2021  51820      Waynesboro  Central Shenandoah         2126   \n",
       "46282  02/27/2021  51830    Williamsburg           Peninsula          524   \n",
       "46283  02/27/2021  51840      Winchester        Lord Fairfax         2460   \n",
       "\n",
       "       Hospitalizations  Deaths  \n",
       "0                   107      21  \n",
       "1                   100      27  \n",
       "2                    19       7  \n",
       "3                    21       6  \n",
       "4                    31       6  \n",
       "...                 ...     ...  \n",
       "46279               387     150  \n",
       "46280              1291     300  \n",
       "46281                67      30  \n",
       "46282                24       9  \n",
       "46283                98      30  \n",
       "\n",
       "[46284 rows x 7 columns]"
      ]
     },
     "execution_count": 2,
     "metadata": {},
     "output_type": "execute_result"
    }
   ],
   "source": [
    "df"
   ]
  },
  {
   "cell_type": "markdown",
   "metadata": {},
   "source": [
    "## Run using local Java JRE"
   ]
  },
  {
   "cell_type": "code",
   "execution_count": 3,
   "metadata": {},
   "outputs": [],
   "source": [
    "# Configure the runtime environment.\n",
    "\n",
    "# When running the algorithms using the local java installation make sure\n",
    "# that the environment variable METANOME_JARPATH references the Metanome.jar\n",
    "# file on your machine. Alternatively, configure the environment settings:\n",
    "\n",
    "import openclean_metanome.config as config\n",
    "\n",
    "env = {config.METANOME_JARPATH: '/path/to/Metanome.jar'}"
   ]
  },
  {
   "cell_type": "code",
   "execution_count": 4,
   "metadata": {},
   "outputs": [
    {
     "name": "stdout",
     "output_type": "stream",
     "text": [
      "Metanome Data Profiling Wrapper - Version 0.1.0\n",
      "\n",
      "Initializing ...\n",
      "Reading data and calculating plis ...\n",
      "Sorting plis by number of clusters ...\n",
      "Inverting plis ...\n",
      "Extracting integer representations for the records ...\n",
      "Investigating comparison suggestions ... \n",
      "Sorting clusters ...(86ms)\n",
      "Running initial windows ...(140ms)\n",
      "Moving window over clusters ... \n",
      "Inducing UCC candidates ...\n",
      "Validating UCCs using plis ...\n",
      "\tLevel 1: 4 elements; (V)(C)(G); 0 intersections; 0 validations; 0 invalid; 0 new candidates; --> 0 UCCs\n",
      "\tLevel 2: 9 elements; (V)(C)(G); 4 intersections; 4 validations; 2 invalid; 7 new candidates; --> 2 UCCs\n",
      "Investigating comparison suggestions ... \n",
      "Moving window over clusters ... \n",
      "Inducing UCC candidates ...\n",
      "Validating UCCs using plis ...\n",
      "\tLevel 3: 13 elements; (V)(-)(-); 13 intersections; 13 validations; 13 invalid; - new candidates; --> 0 UCCs\n",
      "Translating UCC-tree into result format ...\n",
      "... done! (2 UCCs)\n",
      "Time: 631 ms\n",
      "\n"
     ]
    }
   ],
   "source": [
    "# Run the HyUCC algorithm on the downloaded dataset.\n",
    "\n",
    "from openclean_metanome.algorithm.hyucc import hyucc\n",
    "\n",
    "keys = hyucc(df, max_ucc_size=3, env=env)"
   ]
  },
  {
   "cell_type": "code",
   "execution_count": 5,
   "metadata": {},
   "outputs": [
    {
     "name": "stdout",
     "output_type": "stream",
     "text": [
      "['Report Date', 'FIPS']\n",
      "['Report Date', 'Locality']\n"
     ]
    }
   ],
   "source": [
    "for ucc in keys:\n",
    "    print(ucc)"
   ]
  },
  {
   "cell_type": "markdown",
   "metadata": {},
   "source": [
    "## Run using local Docker instance"
   ]
  },
  {
   "cell_type": "code",
   "execution_count": 6,
   "metadata": {},
   "outputs": [],
   "source": [
    "# Configure the runtime environment.\n",
    "\n",
    "# When running the algorithms using Docker make sure that the environment\n",
    "# variable METANOME_WORKERS references a worker configuration file that\n",
    "# assigns a docker worker to the Docker image 'heikomueller/openclean-metanome:0.1.0'.\n",
    "# Note that you can also specify a different image using the environment\n",
    "# variable 'METANOME_CONTAINER'.\n",
    "\n",
    "# An example docker worker configuration file is included in the package:\n",
    "\n",
    "import openclean_metanome.config as config\n",
    "\n",
    "env = {\n",
    "    config.METANOME_WORKERS: '../../config/docker_worker.yaml',\n",
    "    config.METANOME_CONTAINER: 'heikomueller/openclean-metanome:0.1.0'\n",
    "}"
   ]
  },
  {
   "cell_type": "code",
   "execution_count": 7,
   "metadata": {},
   "outputs": [
    {
     "name": "stdout",
     "output_type": "stream",
     "text": [
      "Metanome Data Profiling Wrapper - Version 0.1.0\n",
      "\n",
      "Initializing ...\n",
      "Reading data and calculating plis ...\n",
      "Sorting plis by number of clusters ...\n",
      "Inverting plis ...\n",
      "Extracting integer representations for the records ...\n",
      "Investigating comparison suggestions ... \n",
      "Sorting clusters ...(129ms)\n",
      "Running initial windows ...(141ms)\n",
      "Moving window over clusters ... \n",
      "Inducing UCC candidates ...\n",
      "Validating UCCs using plis ...\n",
      "\tLevel 1: 4 elements; (V)(C)(G); 0 intersections; 0 validations; 0 invalid; 0 new candidates; --> 0 UCCs\n",
      "\tLevel 2: 9 elements; (V)(C)(G); 4 intersections; 4 validations; 2 invalid; 7 new candidates; --> 2 UCCs\n",
      "Investigating comparison suggestions ... \n",
      "Moving window over clusters ... \n",
      "Inducing UCC candidates ...\n",
      "Validating UCCs using plis ...\n",
      "\tLevel 3: 13 elements; (V)(-)(-); 13 intersections; 13 validations; 13 invalid; - new candidates; --> 0 UCCs\n",
      "Translating UCC-tree into result format ...\n",
      "... done! (2 UCCs)\n",
      "Time: 720 ms\n",
      "\n"
     ]
    }
   ],
   "source": [
    "# Run the HyUCC algorithm on the downloaded dataset.\n",
    "\n",
    "from openclean_metanome.algorithm.hyucc import hyucc\n",
    "\n",
    "keys = hyucc(df, max_ucc_size=3, env=env)"
   ]
  },
  {
   "cell_type": "code",
   "execution_count": 8,
   "metadata": {},
   "outputs": [
    {
     "name": "stdout",
     "output_type": "stream",
     "text": [
      "['Report Date', 'FIPS']\n",
      "['Report Date', 'Locality']\n"
     ]
    }
   ],
   "source": [
    "for ucc in keys:\n",
    "    print(ucc)"
   ]
  }
 ],
 "metadata": {
  "kernelspec": {
   "display_name": "Python 3",
   "language": "python",
   "name": "python3"
  },
  "language_info": {
   "codemirror_mode": {
    "name": "ipython",
    "version": 3
   },
   "file_extension": ".py",
   "mimetype": "text/x-python",
   "name": "python",
   "nbconvert_exporter": "python",
   "pygments_lexer": "ipython3",
   "version": "3.9.2"
  }
 },
 "nbformat": 4,
 "nbformat_minor": 4
}
