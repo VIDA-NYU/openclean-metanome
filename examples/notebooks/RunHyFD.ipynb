{
 "cells": [
  {
   "cell_type": "markdown",
   "metadata": {},
   "source": [
    "# Run HyFD Algorithm - Example\n",
    "\n",
    "This notebook shows an example for running the functional dependency discovery algorithm HyFD."
   ]
  },
  {
   "cell_type": "code",
   "execution_count": 1,
   "metadata": {},
   "outputs": [],
   "source": [
    "# Use a Socrata dataset as the example input.\n",
    "\n",
    "from openclean.data.source.socrata import Socrata\n",
    "df = Socrata().dataset('bre9-aqqr').load()"
   ]
  },
  {
   "cell_type": "code",
   "execution_count": 2,
   "metadata": {},
   "outputs": [
    {
     "data": {
      "text/html": [
       "<div>\n",
       "<style scoped>\n",
       "    .dataframe tbody tr th:only-of-type {\n",
       "        vertical-align: middle;\n",
       "    }\n",
       "\n",
       "    .dataframe tbody tr th {\n",
       "        vertical-align: top;\n",
       "    }\n",
       "\n",
       "    .dataframe thead th {\n",
       "        text-align: right;\n",
       "    }\n",
       "</style>\n",
       "<table border=\"1\" class=\"dataframe\">\n",
       "  <thead>\n",
       "    <tr style=\"text-align: right;\">\n",
       "      <th></th>\n",
       "      <th>Report Date</th>\n",
       "      <th>FIPS</th>\n",
       "      <th>Locality</th>\n",
       "      <th>VDH Health District</th>\n",
       "      <th>Total Cases</th>\n",
       "      <th>Hospitalizations</th>\n",
       "      <th>Deaths</th>\n",
       "    </tr>\n",
       "  </thead>\n",
       "  <tbody>\n",
       "    <tr>\n",
       "      <th>0</th>\n",
       "      <td>11/28/2020</td>\n",
       "      <td>51001</td>\n",
       "      <td>Accomack</td>\n",
       "      <td>Eastern Shore</td>\n",
       "      <td>1340</td>\n",
       "      <td>107</td>\n",
       "      <td>21</td>\n",
       "    </tr>\n",
       "    <tr>\n",
       "      <th>1</th>\n",
       "      <td>11/28/2020</td>\n",
       "      <td>51003</td>\n",
       "      <td>Albemarle</td>\n",
       "      <td>Thomas Jefferson</td>\n",
       "      <td>1896</td>\n",
       "      <td>100</td>\n",
       "      <td>27</td>\n",
       "    </tr>\n",
       "    <tr>\n",
       "      <th>2</th>\n",
       "      <td>11/28/2020</td>\n",
       "      <td>51005</td>\n",
       "      <td>Alleghany</td>\n",
       "      <td>Alleghany</td>\n",
       "      <td>316</td>\n",
       "      <td>19</td>\n",
       "      <td>7</td>\n",
       "    </tr>\n",
       "    <tr>\n",
       "      <th>3</th>\n",
       "      <td>11/28/2020</td>\n",
       "      <td>51007</td>\n",
       "      <td>Amelia</td>\n",
       "      <td>Piedmont</td>\n",
       "      <td>210</td>\n",
       "      <td>21</td>\n",
       "      <td>6</td>\n",
       "    </tr>\n",
       "    <tr>\n",
       "      <th>4</th>\n",
       "      <td>11/28/2020</td>\n",
       "      <td>51009</td>\n",
       "      <td>Amherst</td>\n",
       "      <td>Central Virginia</td>\n",
       "      <td>810</td>\n",
       "      <td>31</td>\n",
       "      <td>6</td>\n",
       "    </tr>\n",
       "    <tr>\n",
       "      <th>...</th>\n",
       "      <td>...</td>\n",
       "      <td>...</td>\n",
       "      <td>...</td>\n",
       "      <td>...</td>\n",
       "      <td>...</td>\n",
       "      <td>...</td>\n",
       "      <td>...</td>\n",
       "    </tr>\n",
       "    <tr>\n",
       "      <th>48407</th>\n",
       "      <td>03/15/2021</td>\n",
       "      <td>51800</td>\n",
       "      <td>Suffolk</td>\n",
       "      <td>Western Tidewater</td>\n",
       "      <td>7127</td>\n",
       "      <td>409</td>\n",
       "      <td>175</td>\n",
       "    </tr>\n",
       "    <tr>\n",
       "      <th>48408</th>\n",
       "      <td>03/15/2021</td>\n",
       "      <td>51810</td>\n",
       "      <td>Virginia Beach</td>\n",
       "      <td>Virginia Beach</td>\n",
       "      <td>31848</td>\n",
       "      <td>1342</td>\n",
       "      <td>352</td>\n",
       "    </tr>\n",
       "    <tr>\n",
       "      <th>48409</th>\n",
       "      <td>03/15/2021</td>\n",
       "      <td>51820</td>\n",
       "      <td>Waynesboro</td>\n",
       "      <td>Central Shenandoah</td>\n",
       "      <td>2185</td>\n",
       "      <td>69</td>\n",
       "      <td>34</td>\n",
       "    </tr>\n",
       "    <tr>\n",
       "      <th>48410</th>\n",
       "      <td>03/15/2021</td>\n",
       "      <td>51830</td>\n",
       "      <td>Williamsburg</td>\n",
       "      <td>Peninsula</td>\n",
       "      <td>550</td>\n",
       "      <td>24</td>\n",
       "      <td>11</td>\n",
       "    </tr>\n",
       "    <tr>\n",
       "      <th>48411</th>\n",
       "      <td>03/15/2021</td>\n",
       "      <td>51840</td>\n",
       "      <td>Winchester</td>\n",
       "      <td>Lord Fairfax</td>\n",
       "      <td>2526</td>\n",
       "      <td>100</td>\n",
       "      <td>41</td>\n",
       "    </tr>\n",
       "  </tbody>\n",
       "</table>\n",
       "<p>48412 rows × 7 columns</p>\n",
       "</div>"
      ],
      "text/plain": [
       "      Report Date   FIPS        Locality VDH Health District  Total Cases  \\\n",
       "0      11/28/2020  51001        Accomack       Eastern Shore         1340   \n",
       "1      11/28/2020  51003       Albemarle    Thomas Jefferson         1896   \n",
       "2      11/28/2020  51005       Alleghany           Alleghany          316   \n",
       "3      11/28/2020  51007          Amelia            Piedmont          210   \n",
       "4      11/28/2020  51009         Amherst    Central Virginia          810   \n",
       "...           ...    ...             ...                 ...          ...   \n",
       "48407  03/15/2021  51800         Suffolk   Western Tidewater         7127   \n",
       "48408  03/15/2021  51810  Virginia Beach      Virginia Beach        31848   \n",
       "48409  03/15/2021  51820      Waynesboro  Central Shenandoah         2185   \n",
       "48410  03/15/2021  51830    Williamsburg           Peninsula          550   \n",
       "48411  03/15/2021  51840      Winchester        Lord Fairfax         2526   \n",
       "\n",
       "       Hospitalizations  Deaths  \n",
       "0                   107      21  \n",
       "1                   100      27  \n",
       "2                    19       7  \n",
       "3                    21       6  \n",
       "4                    31       6  \n",
       "...                 ...     ...  \n",
       "48407               409     175  \n",
       "48408              1342     352  \n",
       "48409                69      34  \n",
       "48410                24      11  \n",
       "48411               100      41  \n",
       "\n",
       "[48412 rows x 7 columns]"
      ]
     },
     "execution_count": 2,
     "metadata": {},
     "output_type": "execute_result"
    }
   ],
   "source": [
    "df"
   ]
  },
  {
   "cell_type": "markdown",
   "metadata": {},
   "source": [
    "## Run using local Java JRE"
   ]
  },
  {
   "cell_type": "code",
   "execution_count": 3,
   "metadata": {},
   "outputs": [
    {
     "name": "stdout",
     "output_type": "stream",
     "text": [
      "download jar file as /home/heiko/.cache/openclean_metanome/Metanome.jar\n",
      "file exists\n"
     ]
    }
   ],
   "source": [
    "# Download the 'Metanome.jar' file if no copy exists on the\n",
    "# local machine at the path that is defined by config.JARFILE().\n",
    "\n",
    "from openclean_metanome.download import download_jar\n",
    "\n",
    "download_jar(verbose=True)"
   ]
  },
  {
   "cell_type": "code",
   "execution_count": 4,
   "metadata": {},
   "outputs": [
    {
     "name": "stdout",
     "output_type": "stream",
     "text": [
      "Metanome Data Profiling Wrapper - Version 0.1.0\n",
      "\n",
      "Initializing ...\n",
      "Reading data and calculating plis ...\n",
      "Sorting plis by number of clusters ...\n",
      "Inverting plis ...\n",
      "Extracting integer representations for the records ...\n",
      "Investigating comparison suggestions ... \n",
      "Sorting clusters ...(134ms)\n",
      "Running initial windows ...(139ms)\n",
      "Moving window over clusters ... \n",
      "Window signature: [2][2][1][1][1][1][1]\n",
      "Inducing FD candidates ...\n",
      "Validating FDs using plis ...\n",
      "\tLevel 0: 1 elements; (V)(C)(G); 0 intersections; 0 validations; 0 invalid; 0 new candidates; --> 0 FDs\n",
      "\tLevel 1: 6 elements; (V)(C)(G); 2 intersections; 2 validations; 0 invalid; 0 new candidates; --> 2 FDs\n",
      "\tLevel 2: 9 elements; (V)(C)(G); 4 intersections; 16 validations; 6 invalid; 4 new candidates; --> 10 FDs\n",
      "Investigating comparison suggestions ... \n",
      "Moving window over clusters ... \n",
      "Window signature: [2][2][2][1][1][1][1]\n",
      "Inducing FD candidates ...\n",
      "Validating FDs using plis ...\n",
      "\tLevel 3: 10 elements; (V)(-)(-); 10 intersections; 26 validations; 26 invalid; - new candidates; --> 0 FDs\n",
      "Translating FD-tree into result format ...\n",
      "... done! (12 FDs)\n",
      "Time: 769 ms\n",
      "\n"
     ]
    }
   ],
   "source": [
    "# Run the HyFD algorithm on the downloaded dataset.\n",
    "\n",
    "from openclean_metanome.algorithm.hyfd import hyfd\n",
    "\n",
    "fds = hyfd(df, max_lhs_size=3)"
   ]
  },
  {
   "cell_type": "code",
   "execution_count": 5,
   "metadata": {},
   "outputs": [
    {
     "name": "stdout",
     "output_type": "stream",
     "text": [
      "[FIPS,Total Cases] -> [VDH Health District]\n",
      "[Locality,Total Cases] -> [VDH Health District]\n",
      "[Report Date,FIPS] -> [Total Cases]\n",
      "[Report Date,FIPS] -> [Hospitalizations]\n",
      "[Report Date,FIPS] -> [Deaths]\n",
      "[Report Date,FIPS] -> [VDH Health District]\n",
      "[Report Date,Locality] -> [Total Cases]\n",
      "[Report Date,Locality] -> [Hospitalizations]\n",
      "[Report Date,Locality] -> [Deaths]\n",
      "[Report Date,Locality] -> [VDH Health District]\n",
      "[FIPS] -> [Locality]\n",
      "[Locality] -> [FIPS]\n"
     ]
    }
   ],
   "source": [
    "# Print discovered functional dependencies.\n",
    "\n",
    "for fd in fds:\n",
    "    print(str(fd))"
   ]
  },
  {
   "cell_type": "markdown",
   "metadata": {},
   "source": [
    "## Run using local Docker instance"
   ]
  },
  {
   "cell_type": "code",
   "execution_count": 6,
   "metadata": {},
   "outputs": [],
   "source": [
    "# Configure the runtime environment.\n",
    "\n",
    "# When running the algorithms using Docker make sure that the environment\n",
    "# variable METANOME_WORKERS references a worker configuration file that\n",
    "# assigns a docker worker to the Docker image 'heikomueller/openclean-metanome:0.1.0'.\n",
    "# Note that you can also specify a different image using the environment\n",
    "# variable 'METANOME_CONTAINER'.\n",
    "\n",
    "# An example docker worker configuration file is included in the package:\n",
    "\n",
    "import openclean_metanome.config as config\n",
    "\n",
    "env = {\n",
    "    config.METANOME_WORKERS: '../../config/docker_worker.yaml',\n",
    "    config.METANOME_CONTAINER: 'heikomueller/openclean-metanome:0.1.0'\n",
    "}"
   ]
  },
  {
   "cell_type": "code",
   "execution_count": 7,
   "metadata": {},
   "outputs": [
    {
     "name": "stdout",
     "output_type": "stream",
     "text": [
      "Metanome Data Profiling Wrapper - Version 0.1.0\n",
      "\n",
      "Initializing ...\n",
      "Reading data and calculating plis ...\n",
      "Sorting plis by number of clusters ...\n",
      "Inverting plis ...\n",
      "Extracting integer representations for the records ...\n",
      "Investigating comparison suggestions ... \n",
      "Sorting clusters ...(136ms)\n",
      "Running initial windows ...(146ms)\n",
      "Moving window over clusters ... \n",
      "Window signature: [2][2][1][1][1][1][1]\n",
      "Inducing FD candidates ...\n",
      "Validating FDs using plis ...\n",
      "\tLevel 0: 1 elements; (V)(C)(G); 0 intersections; 0 validations; 0 invalid; 0 new candidates; --> 0 FDs\n",
      "\tLevel 1: 6 elements; (V)(C)(G); 2 intersections; 2 validations; 0 invalid; 0 new candidates; --> 2 FDs\n",
      "\tLevel 2: 9 elements; (V)(C)(G); 4 intersections; 16 validations; 6 invalid; 4 new candidates; --> 10 FDs\n",
      "Investigating comparison suggestions ... \n",
      "Moving window over clusters ... \n",
      "Window signature: [2][2][2][1][1][1][1]\n",
      "Inducing FD candidates ...\n",
      "Validating FDs using plis ...\n",
      "\tLevel 3: 10 elements; (V)(-)(-); 10 intersections; 26 validations; 26 invalid; - new candidates; --> 0 FDs\n",
      "Translating FD-tree into result format ...\n",
      "... done! (12 FDs)\n",
      "Time: 775 ms\n",
      "\n"
     ]
    }
   ],
   "source": [
    "# Run the HyFD algorrithm on the downloaded dataset.\n",
    "\n",
    "from openclean_metanome.algorithm.hyfd import hyfd\n",
    "\n",
    "fds = hyfd(df, max_lhs_size=3)"
   ]
  },
  {
   "cell_type": "code",
   "execution_count": 8,
   "metadata": {},
   "outputs": [
    {
     "name": "stdout",
     "output_type": "stream",
     "text": [
      "[FIPS,Total Cases] -> [VDH Health District]\n",
      "[Locality,Total Cases] -> [VDH Health District]\n",
      "[Report Date,FIPS] -> [Total Cases]\n",
      "[Report Date,FIPS] -> [Hospitalizations]\n",
      "[Report Date,FIPS] -> [Deaths]\n",
      "[Report Date,FIPS] -> [VDH Health District]\n",
      "[Report Date,Locality] -> [Total Cases]\n",
      "[Report Date,Locality] -> [Hospitalizations]\n",
      "[Report Date,Locality] -> [Deaths]\n",
      "[Report Date,Locality] -> [VDH Health District]\n",
      "[FIPS] -> [Locality]\n",
      "[Locality] -> [FIPS]\n"
     ]
    }
   ],
   "source": [
    "# Print discovered functional dependencies.\n",
    "\n",
    "for fd in fds:\n",
    "    print(str(fd))"
   ]
  }
 ],
 "metadata": {
  "kernelspec": {
   "display_name": "Python 3",
   "language": "python",
   "name": "python3"
  },
  "language_info": {
   "codemirror_mode": {
    "name": "ipython",
    "version": 3
   },
   "file_extension": ".py",
   "mimetype": "text/x-python",
   "name": "python",
   "nbconvert_exporter": "python",
   "pygments_lexer": "ipython3",
   "version": "3.9.2"
  }
 },
 "nbformat": 4,
 "nbformat_minor": 4
}
